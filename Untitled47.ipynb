{
  "nbformat": 4,
  "nbformat_minor": 0,
  "metadata": {
    "colab": {
      "private_outputs": true,
      "provenance": [],
      "authorship_tag": "ABX9TyMGwRf8jpViw4APnm6OEM7a",
      "include_colab_link": true
    },
    "kernelspec": {
      "name": "python3",
      "display_name": "Python 3"
    },
    "language_info": {
      "name": "python"
    }
  },
  "cells": [
    {
      "cell_type": "markdown",
      "metadata": {
        "id": "view-in-github",
        "colab_type": "text"
      },
      "source": [
        "<a href=\"https://colab.research.google.com/github/smayiart/p5js-projects/blob/master/Untitled47.ipynb\" target=\"_parent\"><img src=\"https://colab.research.google.com/assets/colab-badge.svg\" alt=\"Open In Colab\"/></a>"
      ]
    },
    {
      "cell_type": "code",
      "execution_count": null,
      "metadata": {
        "id": "ocVl9UA9ZzoM"
      },
      "outputs": [],
      "source": [
        "major_cities = (\"tukyo\", \"Londown\", \"New york\",\"shanghai\", \"sydney\")\n",
        "\n",
        "backwards = len(major_cities) - 1\n",
        "while backwards >=  0:\n",
        "  print(major_cities[backwards])\n",
        "  backwards -= 1"
      ]
    },
    {
      "cell_type": "code",
      "source": [
        "ints  =  (1, 2, 3, 4, 5,6,7,8,9,10)\n",
        "print(ints[::3])      # stride lenght of 3\n",
        "print(ints[1:2])      # evens only\n",
        "print(ints[7::-1])     # backwards  from 8\n",
        "print(ints[8::-2])     # odd  only  backwards"
      ],
      "metadata": {
        "id": "Sc-mbGn9dX3g"
      },
      "execution_count": null,
      "outputs": []
    }
  ]
}
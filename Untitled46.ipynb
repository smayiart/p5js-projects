{
  "nbformat": 4,
  "nbformat_minor": 0,
  "metadata": {
    "colab": {
      "private_outputs": true,
      "provenance": [],
      "authorship_tag": "ABX9TyNWunKzbQjauuSsnEfxAMfg",
      "include_colab_link": true
    },
    "kernelspec": {
      "name": "python3",
      "display_name": "Python 3"
    },
    "language_info": {
      "name": "python"
    }
  },
  "cells": [
    {
      "cell_type": "markdown",
      "metadata": {
        "id": "view-in-github",
        "colab_type": "text"
      },
      "source": [
        "<a href=\"https://colab.research.google.com/github/smayiart/p5js-projects/blob/master/Untitled46.ipynb\" target=\"_parent\"><img src=\"https://colab.research.google.com/assets/colab-badge.svg\" alt=\"Open In Colab\"/></a>"
      ]
    },
    {
      "cell_type": "code",
      "execution_count": null,
      "metadata": {
        "id": "ya6r_PHaSRZN"
      },
      "outputs": [],
      "source": [
        "import sys\n",
        "\n",
        "tuple_12 = (1, 3, 5)\n",
        "list_1 = [1, 3, 5]\n",
        "\n",
        "print(sys.getsizeof(tuple_12))\n",
        "print(sys.getsizeof(list_1))"
      ]
    },
    {
      "cell_type": "code",
      "source": [
        "occupation = {(\"Angus\",\"young\"):\"muscian\",\n",
        "              (\"Narendra\", \"Modi\"):\"prime minister\"\n",
        "              (\"Richard\",\"Branson\"):\"entrenepurur\"\n",
        "              (\"Quentin\", \"Tarantino\"):\"flimaker\"}\n",
        "\n",
        "\n",
        "seven_wonders = {(\"29*58'44\"N\", \"31*08,02'\"E\"): \"The Greate pyramid  of  Giza, Egypt\",\n",
        "                 (\"33*13'33\"N\", \"43*40'45'\"E\"): \"Hanging Gardens,of Babylon\",\n",
        "                 (\"37*38'18\"N\", \"21*37'47'\"E\"): \"Archaelogical site of olympia, Greece\",\n",
        "                 (\"37*55'33\"N\", \"23*59'36'\"E\"): \"Temple of Artemis at Emphesus\",\n",
        "                 (\"36*02'16\"N\",\"27*25'26'\"E\" ): \"Mausoleum at Halicarnassus\",\n",
        "                 (\"36*02'16'\"N\",\"23*13'03'\"E\"): \"Rhodes, Greece\",\n",
        "                (\"31*12'51'\"N\", \"29*53'28'\"E\"): \"Lighthouse of Alxeandria,Egypt\"}\n",
        ""
      ],
      "metadata": {
        "id": "hud1asRbbNWp"
      },
      "execution_count": null,
      "outputs": []
    }
  ]
}